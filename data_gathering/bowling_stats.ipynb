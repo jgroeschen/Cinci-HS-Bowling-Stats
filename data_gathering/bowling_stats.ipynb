{
 "cells": [
  {
   "cell_type": "markdown",
   "metadata": {},
   "source": [
    "# Imports"
   ]
  },
  {
   "cell_type": "code",
   "execution_count": 2,
   "metadata": {},
   "outputs": [],
   "source": [
    "import pandas as pd\n",
    "import requests\n",
    "from bs4 import BeautifulSoup\n",
    "import html5lib\n",
    "import lxml\n",
    "import re\n",
    "from datetime import datetime\n",
    "import time\n"
   ]
  },
  {
   "cell_type": "markdown",
   "metadata": {},
   "source": [
    "# Setup"
   ]
  },
  {
   "cell_type": "code",
   "execution_count": 4,
   "metadata": {},
   "outputs": [],
   "source": [
    "# OHSAA Southwest District conferences\n",
    "domains = ['https://eccsports.com/',\n",
    "           'https://gmcsports.com/',\n",
    "           'http://www.swocsports.com/',\n",
    "           'http://www.swblsports.com/',\n",
    "           'http://sbaac.com/',\n",
    "           'http://ggcl.gclsports.com/',\n",
    "           ]\n",
    "\n",
    "# Gender URL examples (standings, schedule)\n",
    "girls = ['35', '215']\n",
    "boys = ['30', '137']\n",
    "\n",
    "# Requests headers\n",
    "headers = {\n",
    "    'user-agent': 'Mozilla/5.0 (Windows NT 10.0; Win64; x64) AppleWebKit/537.36 (KHTML, like Gecko) Chrome/74.0.3729.169 Safari/537.36'}\n"
   ]
  },
  {
   "cell_type": "markdown",
   "metadata": {},
   "source": [
    "# Download List of Matches"
   ]
  },
  {
   "cell_type": "code",
   "execution_count": 6,
   "metadata": {},
   "outputs": [],
   "source": [
    "match_ids = []\n",
    "totals_rows_list = []\n",
    "for domain in domains[:]:\n",
    "    for gender in [girls, boys]:\n",
    "        for year in range(2007, 2023):\n",
    "            page = requests.get(\n",
    "                f'{domain}schedule.aspx?satc={gender[1]}&cmp=1&year={year}', headers=headers)\n",
    "            soup = BeautifulSoup(page.content, 'html.parser')\n",
    "            title = soup.find('title').string\n",
    "            match_links = soup.select('a[id*=ContentPlaceHolder1]')\n",
    "            for link in match_links:\n",
    "                href = link['href']\n",
    "                matches = re.findall(r'id=(.*)', href)\n",
    "\n",
    "                # Add to list of Match IDs\n",
    "                match_ids.append(matches[0])\n",
    "\n",
    "                # Add to list of Match IDs with totals from table\n",
    "                id = int(matches[0])\n",
    "                total = link.parent.find_previous_sibling().findChild().contents\n",
    "                date = link.find_previous('th').find_previous('th').contents\n",
    "                date_parsed = str(datetime.strptime(\n",
    "                    date[0], '%A, %B %d, %Y').isoformat()[:10])\n",
    "\n",
    "                row = [id, total, date_parsed,\n",
    "                       f'{year}-{year+1}', gender[1], domain, title]\n",
    "                totals_rows_list.append(row)\n",
    "            time.sleep(10)\n"
   ]
  },
  {
   "cell_type": "code",
   "execution_count": 7,
   "metadata": {},
   "outputs": [],
   "source": [
    "df_matches_totals = pd.DataFrame(totals_rows_list, columns=[\n",
    "                                 'MatchID', 'Total', 'Date', 'Year', 'Gender', 'Domain', 'Title'])\n",
    "df_matches_totals['Total'] = df_matches_totals['Total'].str[0]\n",
    "df_matches_totals.to_csv('matches_sw_district.csv')\n"
   ]
  },
  {
   "cell_type": "markdown",
   "metadata": {},
   "source": [
    "## Filter out matches without scores or outside usual"
   ]
  },
  {
   "cell_type": "code",
   "execution_count": null,
   "metadata": {},
   "outputs": [],
   "source": [
    "has_score_filter = df_matches_totals['Total'].str.contains('(\\d\\d\\d.*){2}')\n",
    "df_has_score = df_matches_totals[has_score_filter]\n",
    "not_actual_match = df_has_score['Total'].str.contains(\n",
    "    '(\\d\\d\\d.+){3,}|( Tournament )|( at )|(lassic)|(,.+){2}')\n",
    "df_has_score = df_has_score[~not_actual_match]\n"
   ]
  },
  {
   "cell_type": "code",
   "execution_count": 9,
   "metadata": {},
   "outputs": [],
   "source": [
    "df_has_score.to_csv('matches_sw_district_have_scores.csv')"
   ]
  }
 ],
 "metadata": {
  "kernelspec": {
   "display_name": "Python 3.10.4 64-bit",
   "language": "python",
   "name": "python3"
  },
  "language_info": {
   "codemirror_mode": {
    "name": "ipython",
    "version": 3
   },
   "file_extension": ".py",
   "mimetype": "text/x-python",
   "name": "python",
   "nbconvert_exporter": "python",
   "pygments_lexer": "ipython3",
   "version": "3.10.4"
  },
  "orig_nbformat": 4,
  "vscode": {
   "interpreter": {
    "hash": "21d44e44f2640ec32460b5c0d91b6b01175996a3ad3a315ed984dc353c20d31f"
   }
  }
 },
 "nbformat": 4,
 "nbformat_minor": 2
}
