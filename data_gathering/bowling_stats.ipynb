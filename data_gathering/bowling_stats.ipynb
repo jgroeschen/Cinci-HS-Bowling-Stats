{
 "cells": [
  {
   "cell_type": "markdown",
   "metadata": {},
   "source": [
    "# Imports"
   ]
  },
  {
   "cell_type": "code",
   "execution_count": null,
   "metadata": {},
   "outputs": [],
   "source": [
    "import pandas as pd\n",
    "import requests\n",
    "from bs4 import BeautifulSoup\n",
    "import html5lib\n",
    "import lxml\n",
    "import re\n",
    "from datetime import datetime"
   ]
  },
  {
   "cell_type": "markdown",
   "metadata": {},
   "source": [
    "# Setup"
   ]
  },
  {
   "cell_type": "code",
   "execution_count": null,
   "metadata": {},
   "outputs": [],
   "source": [
    "# OHSAA Southwest District conferences\n",
    "domains = ['https://eccsports.com/',\n",
    "          'https://gmcsports.com/',\n",
    "          'http://www.swocsports.com/',\n",
    "          'http://www.swblsports.com/',\n",
    "          'http://sbaac.com/',\n",
    "          'http://ggcl.gclsports.com/',\n",
    "          ]\n",
    "\n",
    "# Gender URL examples (standings, schedule)\n",
    "girls = ['35', '215']\n",
    "boys = ['30', '137']"
   ]
  },
  {
   "cell_type": "markdown",
   "metadata": {},
   "source": [
    "# Download List of Matches"
   ]
  },
  {
   "cell_type": "code",
   "execution_count": null,
   "metadata": {},
   "outputs": [],
   "source": []
  }
 ],
 "metadata": {
  "kernelspec": {
   "display_name": "Python 3.10.4 64-bit",
   "language": "python",
   "name": "python3"
  },
  "language_info": {
   "name": "python",
   "version": "3.10.4"
  },
  "orig_nbformat": 4,
  "vscode": {
   "interpreter": {
    "hash": "21d44e44f2640ec32460b5c0d91b6b01175996a3ad3a315ed984dc353c20d31f"
   }
  }
 },
 "nbformat": 4,
 "nbformat_minor": 2
}
